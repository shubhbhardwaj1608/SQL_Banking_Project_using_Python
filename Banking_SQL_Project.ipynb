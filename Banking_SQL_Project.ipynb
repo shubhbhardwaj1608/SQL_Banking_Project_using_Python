{
 "cells": [
  {
   "cell_type": "markdown",
   "id": "81f3f8ee",
   "metadata": {},
   "source": [
    "# Banking Operations using Python and SQL"
   ]
  },
  {
   "cell_type": "markdown",
   "id": "c52bdbcd",
   "metadata": {},
   "source": [
    "#### Importing mysql.connector driver library for Python"
   ]
  },
  {
   "cell_type": "code",
   "execution_count": 3,
   "id": "17568005",
   "metadata": {},
   "outputs": [],
   "source": [
    "import mysql.connector as s"
   ]
  },
  {
   "cell_type": "markdown",
   "id": "9c86bf47",
   "metadata": {},
   "source": [
    "#### Establishing Connection with MySQL database"
   ]
  },
  {
   "cell_type": "code",
   "execution_count": 4,
   "id": "e9776819",
   "metadata": {},
   "outputs": [
    {
     "name": "stdout",
     "output_type": "stream",
     "text": [
      "Successfully connected\n"
     ]
    }
   ],
   "source": [
    "datalibrary = s.connect(host=\"localhost\",user=\"root\",password=\"sb@123\",auth_plugin='mysql_native_password')\n",
    "#Inspecting connection\n",
    "if datalibrary.is_connected():\n",
    "    print(\"Successfully connected\")\n",
    "else:\n",
    "    print(\"Not connected\")"
   ]
  },
  {
   "cell_type": "markdown",
   "id": "735a63ce",
   "metadata": {},
   "source": [
    "#### Perform SQL query execution with the cursor"
   ]
  },
  {
   "cell_type": "code",
   "execution_count": 5,
   "id": "5aa95ab2",
   "metadata": {},
   "outputs": [],
   "source": [
    "curs = datalibrary.cursor()"
   ]
  },
  {
   "cell_type": "markdown",
   "id": "eb0765eb",
   "metadata": {},
   "source": [
    "#### Establish a database for Banking Management"
   ]
  },
  {
   "cell_type": "code",
   "execution_count": 6,
   "id": "c00b7fd4",
   "metadata": {},
   "outputs": [],
   "source": [
    "curs.execute(\"Create database Bank_Operation\")"
   ]
  },
  {
   "cell_type": "markdown",
   "id": "3681a943",
   "metadata": {},
   "source": [
    "#### Define tables for managing Bank_Account and Bank_Balance"
   ]
  },
  {
   "cell_type": "code",
   "execution_count": 7,
   "id": "2f5e019b",
   "metadata": {},
   "outputs": [],
   "source": [
    "curs.execute(\"Use Bank_Operation\")\n",
    "curs.execute(\"Create table Bank_Account(User_Accountno varchar(15) primary key,User_Name varchar(30),DOB varchar(10),Address varchar(50),Phone_no varchar(10),Opening_balance int)\")"
   ]
  },
  {
   "cell_type": "code",
   "execution_count": 8,
   "id": "de7d2f1b",
   "metadata": {},
   "outputs": [],
   "source": [
    "curs.execute(\"Create table Bank_Balance(User_Accountno varchar(15) primary key,User_Name varchar(30), Balance int)\")"
   ]
  },
  {
   "cell_type": "markdown",
   "id": "0e162131",
   "metadata": {},
   "source": [
    "#### Create bank-related function - \n",
    "1.open_Account, 2.deposit_amount, 3.withdraw_amount, 4.check_balance, 5.display details of user, 6.close an account "
   ]
  },
  {
   "cell_type": "code",
   "execution_count": 11,
   "id": "2331ed95",
   "metadata": {},
   "outputs": [
    {
     "name": "stdout",
     "output_type": "stream",
     "text": [
      "\n",
      "    1.Open New Account\n",
      "    2.deposit account\n",
      "    3.withdraw amount\n",
      "    4.balance check\n",
      "    5.display details of user\n",
      "    6.close an account\n",
      "    \n",
      "Enter Task number: 1\n",
      "Enter name:Yogender\n",
      "Enter account no:67553014\n",
      "Enter DOB:03/02/2003\n",
      "Enter address:Indore\n",
      "Enter phone:7812411273\n",
      "Enter opening balance:10000\n",
      "Data Entered successfully\n",
      "\n",
      "    1.Open New Account\n",
      "    2.deposit account\n",
      "    3.withdraw amount\n",
      "    4.balance check\n",
      "    5.display details of user\n",
      "    6.close an account\n",
      "    \n",
      "Enter Task number: 7\n",
      "Give Wrong input please enter right input\n"
     ]
    }
   ],
   "source": [
    "def open_account():\n",
    "    name = input(\"Enter name:\")\n",
    "    account_no = input(\"Enter account no:\")\n",
    "    dob = input(\"Enter DOB:\")\n",
    "    address = input(\"Enter address:\")\n",
    "    phone = input(\"Enter phone:\")\n",
    "    open_bal = int(input(\"Enter opening balance:\"))\n",
    "    data1 = (account_no,name,dob,address,phone,open_bal)\n",
    "    data2 = (account_no,name,open_bal)\n",
    "    sql1 = \"insert into Bank_Account values(%s,%s,%s,%s,%s,%s)\"\n",
    "    sql2 = \"insert into Bank_Balance values(%s,%s,%s)\" \n",
    "    curs = datalibrary.cursor()\n",
    "    curs.execute(sql1,data1)\n",
    "    curs.execute(sql2,data2)\n",
    "    datalibrary.commit()\n",
    "    print(\"Data Entered successfully\")\n",
    "    Core_program()\n",
    "\n",
    "def deposit_amount():\n",
    "    amount = int(input(\"Enter amount:\"))   \n",
    "    an = input(\"Enter account no:\")\n",
    "    a = \"select balance from Bank_Balance where User_Accountno=%s\"\n",
    "    data = (an,)\n",
    "    curs = datalibrary.cursor()\n",
    "    curs.execute(a,data)\n",
    "    result = curs.fetchone()\n",
    "    t = result[0]+amount\n",
    "    sql = \"update Bank_Balance set balance=%s where User_Accountno=%s\"\n",
    "    data = (t,an)\n",
    "    curs.execute(sql,data)\n",
    "    datalibrary.commit()\n",
    "    Core_program()\n",
    "\n",
    "def withdraw_amount():\n",
    "    amount = int(input(\"Enter amount:\"))   \n",
    "    an = input(\"Enter account no:\")\n",
    "    a = \"select balance from Bank_Balance where User_Accountno=%s\"\n",
    "    data = (an,)\n",
    "    curs = datalibrary.cursor()\n",
    "    curs.execute(a,data)\n",
    "    result = curs.fetchone()\n",
    "    t = result[0]-amount\n",
    "    sql = \"update Bank_Balance set balance=%s where User_Accountno=%s\"\n",
    "    data = (t,an)\n",
    "    curs.execute(sql,data)\n",
    "    datalibrary.commit()\n",
    "    Core_program()\n",
    "    \n",
    "    \n",
    "#ac = account_number \n",
    "def check_balance():\n",
    "    ac = input(\"Enter account no:\")\n",
    "    a = \"select balance from Bank_Balance where User_Accountno=%s\"\n",
    "    data = (ac,)\n",
    "    curs = datalibrary.cursor()\n",
    "    curs.execute(a,data)\n",
    "    result = curs.fetchone()\n",
    "    print(\"Balance for Account:\",ac,\"is\",result[0])\n",
    "    Core_program()\n",
    "\n",
    "\n",
    "\n",
    "def display_user_details():\n",
    "    ac = input(\"Enter account no:\")\n",
    "    a = \"select * from Bank_Balance where User_Accountno=%s\"\n",
    "    data = (ac,)\n",
    "    curs = datalibrary.cursor()\n",
    "    curs.execute(a,data)\n",
    "    result = curs.fetchone()\n",
    "    for i in result:\n",
    "        print(i,end=\" \")  \n",
    "    Core_program()\n",
    "\n",
    "\n",
    "def close_account():\n",
    "    ac = input(\"Enter account no:\")\n",
    "    sql1 = \"delete from Bank_Account where User_Accountno=%s\"\n",
    "    sql2= \"delete from Bank_Balance where User_Accountno=%s\"\n",
    "    data = (ac,)\n",
    "    curs = datalibrary.cursor()\n",
    "    curs.execute(sql1,data)\n",
    "    curs.execute(sql2,data)\n",
    "    datalibrary.commit()\n",
    "    Core_program()\n",
    "    \n",
    "def Core_program():\n",
    "    print(\"\"\"\n",
    "    1.Open New Account\n",
    "    2.deposit account\n",
    "    3.withdraw amount\n",
    "    4.balance check\n",
    "    5.display details of user\n",
    "    6.close an account\n",
    "    \"\"\")\n",
    "    choice = int(input(\"Enter Task number: \"))\n",
    "    if(choice==1):\n",
    "        open_account()\n",
    "    elif(choice==2):\n",
    "        deposit_amount()\n",
    "    elif(choice==3):\n",
    "        withdraw_amount()\n",
    "    elif(choice==4):\n",
    "        check_balance()\n",
    "    elif(choice==5):\n",
    "        display_user_details()\n",
    "    elif(choice==6):\n",
    "        close_account()\n",
    "    else:\n",
    "        print(\"Give Wrong input please enter right input\")\n",
    "Core_program()"
   ]
  },
  {
   "cell_type": "markdown",
   "id": "e31513d2",
   "metadata": {},
   "source": [
    "#### To show all results from first table and second table "
   ]
  },
  {
   "cell_type": "code",
   "execution_count": 12,
   "id": "a70ac55b",
   "metadata": {},
   "outputs": [
    {
     "name": "stdout",
     "output_type": "stream",
     "text": [
      "('23168754', 'Vishal', '17/06/2000', 'Dehradun', '9762183322', 1200)\n",
      "('34761458', 'Shubh', '08/12/2001', 'Hydrabad', '9871844225', 9000)\n",
      "('45812905', 'Varun', '08/07/1995', 'Greater Noida', '9324550726', 14000)\n",
      "('67553014', 'Yogender', '03/02/2003', 'Indore', '7812411273', 10000)\n",
      "('76340178', 'Anjali', '21/09/2005', 'Rohtak', '8621340775', 2000)\n"
     ]
    }
   ],
   "source": [
    "curs.execute(\"select * from Bank_Account\")\n",
    "for i in curs:\n",
    "    print(i)"
   ]
  },
  {
   "cell_type": "code",
   "execution_count": 13,
   "id": "59eb4da5",
   "metadata": {},
   "outputs": [
    {
     "name": "stdout",
     "output_type": "stream",
     "text": [
      "('23168754', 'Vishal', 1200)\n",
      "('34761458', 'Shubh', 9000)\n",
      "('45812905', 'Varun', 14000)\n",
      "('67553014', 'Yogender', 10000)\n",
      "('76340178', 'Anjali', 2000)\n"
     ]
    }
   ],
   "source": [
    "curs.execute(\"select * from Bank_Balance\")\n",
    "for i in curs:\n",
    "    print(i)"
   ]
  },
  {
   "cell_type": "markdown",
   "id": "c47cd4a5",
   "metadata": {},
   "source": [
    "#### Withdraw amount from any account "
   ]
  },
  {
   "cell_type": "code",
   "execution_count": 14,
   "id": "56b74cda",
   "metadata": {},
   "outputs": [
    {
     "name": "stdout",
     "output_type": "stream",
     "text": [
      "\n",
      "    1.Open New Account\n",
      "    2.deposit account\n",
      "    3.withdraw amount\n",
      "    4.balance check\n",
      "    5.display details of user\n",
      "    6.close an account\n",
      "    \n",
      "Enter Task number: 3\n",
      "Enter amount:100\n",
      "Enter account no:23168754\n",
      "\n",
      "    1.Open New Account\n",
      "    2.deposit account\n",
      "    3.withdraw amount\n",
      "    4.balance check\n",
      "    5.display details of user\n",
      "    6.close an account\n",
      "    \n",
      "Enter Task number: 7\n",
      "Give Wrong input please enter right input\n"
     ]
    }
   ],
   "source": [
    "Core_program()"
   ]
  },
  {
   "cell_type": "markdown",
   "id": "141857ba",
   "metadata": {},
   "source": [
    "#### After withdraw result"
   ]
  },
  {
   "cell_type": "code",
   "execution_count": 15,
   "id": "23899bf5",
   "metadata": {},
   "outputs": [
    {
     "name": "stdout",
     "output_type": "stream",
     "text": [
      "('23168754', 'Vishal', 1100)\n",
      "('34761458', 'Shubh', 9000)\n",
      "('45812905', 'Varun', 14000)\n",
      "('67553014', 'Yogender', 10000)\n",
      "('76340178', 'Anjali', 2000)\n"
     ]
    }
   ],
   "source": [
    "curs.execute(\"select * from Bank_Balance\")\n",
    "for i in curs:\n",
    "    print(i)"
   ]
  },
  {
   "cell_type": "markdown",
   "id": "5c84ccaf",
   "metadata": {},
   "source": [
    "#### Check balance"
   ]
  },
  {
   "cell_type": "code",
   "execution_count": 16,
   "id": "4abce32f",
   "metadata": {},
   "outputs": [
    {
     "name": "stdout",
     "output_type": "stream",
     "text": [
      "\n",
      "    1.Open New Account\n",
      "    2.deposit account\n",
      "    3.withdraw amount\n",
      "    4.balance check\n",
      "    5.display details of user\n",
      "    6.close an account\n",
      "    \n",
      "Enter Task number: 4\n",
      "Enter account no:45812905\n",
      "Balance for Account: 45812905 is 14000\n",
      "\n",
      "    1.Open New Account\n",
      "    2.deposit account\n",
      "    3.withdraw amount\n",
      "    4.balance check\n",
      "    5.display details of user\n",
      "    6.close an account\n",
      "    \n",
      "Enter Task number: 7\n",
      "Give Wrong input please enter right input\n"
     ]
    }
   ],
   "source": [
    "Core_program()"
   ]
  },
  {
   "cell_type": "markdown",
   "id": "512afc8a",
   "metadata": {},
   "source": [
    "#### Display details of user"
   ]
  },
  {
   "cell_type": "code",
   "execution_count": 17,
   "id": "37a49456",
   "metadata": {},
   "outputs": [
    {
     "name": "stdout",
     "output_type": "stream",
     "text": [
      "\n",
      "    1.Open New Account\n",
      "    2.deposit account\n",
      "    3.withdraw amount\n",
      "    4.balance check\n",
      "    5.display details of user\n",
      "    6.close an account\n",
      "    \n",
      "Enter Task number: 5\n",
      "Enter account no:76340178\n",
      "76340178 Anjali 2000 \n",
      "    1.Open New Account\n",
      "    2.deposit account\n",
      "    3.withdraw amount\n",
      "    4.balance check\n",
      "    5.display details of user\n",
      "    6.close an account\n",
      "    \n",
      "Enter Task number: 7\n",
      "Give Wrong input please enter right input\n"
     ]
    }
   ],
   "source": [
    "Core_program()"
   ]
  },
  {
   "cell_type": "markdown",
   "id": "2fc14553",
   "metadata": {},
   "source": [
    "#### Close account"
   ]
  },
  {
   "cell_type": "code",
   "execution_count": 18,
   "id": "98a9e2a4",
   "metadata": {},
   "outputs": [
    {
     "name": "stdout",
     "output_type": "stream",
     "text": [
      "\n",
      "    1.Open New Account\n",
      "    2.deposit account\n",
      "    3.withdraw amount\n",
      "    4.balance check\n",
      "    5.display details of user\n",
      "    6.close an account\n",
      "    \n",
      "Enter Task number: 6\n",
      "Enter account no:34761458\n",
      "\n",
      "    1.Open New Account\n",
      "    2.deposit account\n",
      "    3.withdraw amount\n",
      "    4.balance check\n",
      "    5.display details of user\n",
      "    6.close an account\n",
      "    \n",
      "Enter Task number: 7\n",
      "Give Wrong input please enter right input\n"
     ]
    }
   ],
   "source": [
    "Core_program()"
   ]
  },
  {
   "cell_type": "markdown",
   "id": "64c77be5",
   "metadata": {},
   "source": [
    "#### show result after close account"
   ]
  },
  {
   "cell_type": "code",
   "execution_count": 19,
   "id": "4d0d2657",
   "metadata": {},
   "outputs": [
    {
     "name": "stdout",
     "output_type": "stream",
     "text": [
      "('23168754', 'Vishal', 1100)\n",
      "('45812905', 'Varun', 14000)\n",
      "('67553014', 'Yogender', 10000)\n",
      "('76340178', 'Anjali', 2000)\n"
     ]
    }
   ],
   "source": [
    "curs.execute(\"select * from Bank_Balance\")\n",
    "for i in curs:\n",
    "    print(i)"
   ]
  },
  {
   "cell_type": "markdown",
   "id": "f1c7550b",
   "metadata": {},
   "source": [
    "#### Show table"
   ]
  },
  {
   "cell_type": "code",
   "execution_count": 20,
   "id": "3c037ddb",
   "metadata": {},
   "outputs": [
    {
     "name": "stdout",
     "output_type": "stream",
     "text": [
      "('bank_account',)\n",
      "('bank_balance',)\n"
     ]
    }
   ],
   "source": [
    "curs = datalibrary.cursor()\n",
    "curs.execute(\"show tables\")\n",
    "for i in curs:\n",
    "    print(i)"
   ]
  },
  {
   "cell_type": "code",
   "execution_count": null,
   "id": "33178374",
   "metadata": {},
   "outputs": [],
   "source": []
  }
 ],
 "metadata": {
  "kernelspec": {
   "display_name": "Python 3 (ipykernel)",
   "language": "python",
   "name": "python3"
  },
  "language_info": {
   "codemirror_mode": {
    "name": "ipython",
    "version": 3
   },
   "file_extension": ".py",
   "mimetype": "text/x-python",
   "name": "python",
   "nbconvert_exporter": "python",
   "pygments_lexer": "ipython3",
   "version": "3.10.9"
  }
 },
 "nbformat": 4,
 "nbformat_minor": 5
}
